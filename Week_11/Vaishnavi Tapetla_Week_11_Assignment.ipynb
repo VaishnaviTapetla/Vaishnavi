{
  "nbformat": 4,
  "nbformat_minor": 0,
  "metadata": {
    "colab": {
      "provenance": []
    },
    "kernelspec": {
      "name": "python3",
      "display_name": "Python 3"
    },
    "language_info": {
      "name": "python"
    }
  },
  "cells": [
    {
      "cell_type": "code",
      "execution_count": 3,
      "metadata": {
        "id": "Lxr0U5104kSl"
      },
      "outputs": [],
      "source": [
        "import pandas as pd\n",
        "import numpy as np\n",
        "from xgboost import XGBClassifier\n",
        "from sklearn.model_selection import train_test_split, cross_val_score\n",
        "from sklearn.metrics import accuracy_score\n",
        "import time"
      ]
    },
    {
      "cell_type": "code",
      "source": [
        "df = pd.read_csv(\"week_11_data_pima.csv\")"
      ],
      "metadata": {
        "id": "cXO_7zAb5Cw6"
      },
      "execution_count": 6,
      "outputs": []
    },
    {
      "cell_type": "code",
      "source": [
        "# List of dataset sizes to test\n",
        "sizes = [100, 1000, 10000, 100000, 1000000, 10000000]\n",
        "\n",
        "# Prepare results list\n",
        "results = []\n",
        "\n",
        "for size in sizes:\n",
        "    print(f\"\\nTesting dataset size: {size}\")\n",
        "\n",
        "    # Duplicate data if needed\n",
        "    df_sample = pd.concat([df] * (size // len(df) + 1), ignore_index=True).iloc[:size]\n",
        "\n",
        "    # Split features and target\n",
        "    X = df_sample.drop(\"outcome\", axis=1)\n",
        "    y = df_sample[\"outcome\"]\n",
        "\n",
        "    # Split train/test\n",
        "    X_train, X_test, y_train, y_test = train_test_split(X, y, test_size=0.2, random_state=42)\n",
        "\n",
        "    # Initialize model\n",
        "    model = XGBClassifier(use_label_encoder=False, eval_metric='logloss', verbosity=0)\n",
        "\n",
        "    # Time model fitting and cross-validation\n",
        "    start = time.time()\n",
        "    scores = cross_val_score(model, X_train, y_train, cv=5, scoring='accuracy')\n",
        "    elapsed = time.time() - start\n",
        "\n",
        "    # Fit and predict on test set\n",
        "    model.fit(X_train, y_train)\n",
        "    test_accuracy = accuracy_score(y_test, model.predict(X_test))\n",
        "\n",
        "    # Store results\n",
        "    results.append({\n",
        "        \"Dataset Size\": size,\n",
        "        \"CV Accuracy\": round(scores.mean(), 4),\n",
        "        \"Test Accuracy\": round(test_accuracy, 4),\n",
        "        \"Time (s)\": round(elapsed, 2)\n",
        "    })\n",
        "\n",
        "# Convert results to DataFrame and display\n",
        "results_df = pd.DataFrame(results)\n",
        "print(\"\\nSummary:\")\n",
        "print(results_df)"
      ],
      "metadata": {
        "colab": {
          "base_uri": "https://localhost:8080/"
        },
        "id": "M1k93nws5MaL",
        "outputId": "a0fdd1dd-0230-4e18-cd24-2a490efef0df"
      },
      "execution_count": 8,
      "outputs": [
        {
          "output_type": "stream",
          "name": "stdout",
          "text": [
            "\n",
            "Testing dataset size: 100\n",
            "\n",
            "Testing dataset size: 1000\n",
            "\n",
            "Testing dataset size: 10000\n",
            "\n",
            "Testing dataset size: 100000\n",
            "\n",
            "Testing dataset size: 1000000\n",
            "\n",
            "Testing dataset size: 10000000\n",
            "\n",
            "Summary:\n",
            "   Dataset Size  CV Accuracy  Test Accuracy  Time (s)\n",
            "0           100       0.8500         0.9500      0.96\n",
            "1          1000       0.9400         0.9700      0.65\n",
            "2         10000       0.9720         0.9820      2.03\n",
            "3        100000       0.9859         0.9866      4.06\n",
            "4       1000000       0.9915         0.9923     34.95\n",
            "5      10000000       0.9931         0.9932    339.80\n"
          ]
        }
      ]
    }
  ]
}